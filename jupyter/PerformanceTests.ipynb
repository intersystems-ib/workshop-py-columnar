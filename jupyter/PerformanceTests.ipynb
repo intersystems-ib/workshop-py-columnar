{
 "cells": [
  {
   "cell_type": "code",
   "execution_count": 1,
   "id": "9f7b5878-d158-4423-97d3-9baf3b4cfe1a",
   "metadata": {},
   "outputs": [],
   "source": [
    "import iris\n",
    "import numpy as np\n",
    "import names\n",
    "import matplotlib.pyplot as plt\n",
    "import random_address\n",
    "import datetime\n",
    "from datetime import datetime, timedelta\n",
    "import time\n",
    "import random\n",
    "from phone_gen import PhoneNumber"
   ]
  },
  {
   "cell_type": "code",
   "execution_count": 2,
   "id": "915cd2cb-059f-40b1-86b3-7ead09269b50",
   "metadata": {},
   "outputs": [
    {
     "name": "stdout",
     "output_type": "stream",
     "text": [
      "Connected\n"
     ]
    }
   ],
   "source": [
    "connection_string = \"iris:1972/TEST\"\n",
    "username = \"superuser\"\n",
    "password = \"SYS\"\n",
    "\n",
    "connectionIRIS = iris.connect(connection_string, username, password)\n",
    "cursorIRIS = connectionIRIS.cursor()\n",
    "print(\"Connected\")"
   ]
  },
  {
   "cell_type": "code",
   "execution_count": 3,
   "id": "18f58761-fe27-4eec-b89a-07ec36f4e841",
   "metadata": {},
   "outputs": [
    {
     "name": "stdout",
     "output_type": "stream",
     "text": [
      "Parameters built\n"
     ]
    }
   ],
   "source": [
    "start_date = datetime.now()\n",
    "end_date = start_date + timedelta(days=10)\n",
    "phone_number = PhoneNumber(\"USA\")\n",
    "resultsIRISColumnar = [0]\n",
    "resultsIRISRow = [0]\n",
    "selectIRISColumnar = [0]\n",
    "selectIRISRow = [0]\n",
    "reference = 1\n",
    "\n",
    "parameters =  []\n",
    "for x in range(1000):\n",
    "    parameter = []\n",
    "    amount = random.uniform(1.0, 10000.0)\n",
    "    parameter.append(reference)\n",
    "    parameter.append(names.get_first_name()+' '+names.get_last_name())\n",
    "    parameter.append((start_date + (end_date - start_date) * random.random()).strftime('%Y-%m-%d %H:%M:%S'))\n",
    "    parameter.append(amount)\n",
    "    parameter.append(amount * 0.18)\n",
    "    parameter.append(random.choice(['EMITED','PAYED','SENT','RECEIVED']))\n",
    "    parameters.append(parameter)\n",
    "    reference += 1\n",
    "\n",
    "print(\"Parameters built\")"
   ]
  },
  {
   "cell_type": "code",
   "execution_count": 4,
   "id": "024658da-6266-4c7e-8a6a-b3558b4c282d",
   "metadata": {},
   "outputs": [
    {
     "name": "stdout",
     "output_type": "stream",
     "text": [
      "0.037363\n"
     ]
    }
   ],
   "source": [
    "date_before = datetime.now()\n",
    "\n",
    "cursorIRIS.executemany(\"INSERT INTO Test.PurchaseOrderColumnar (Reference, Customer, PaymentDate, Vat, Amount, Status) VALUES (?, ?, ?, ?, ?, ?)\", parameters)\n",
    "connectionIRIS.commit()\n",
    "difference = datetime.now() - date_before\n",
    "print(difference.total_seconds())\n",
    "resultsIRISColumnar.append(difference.total_seconds())"
   ]
  },
  {
   "cell_type": "code",
   "execution_count": 5,
   "id": "4aca0949",
   "metadata": {},
   "outputs": [
    {
     "name": "stdout",
     "output_type": "stream",
     "text": [
      "0.035774\n"
     ]
    }
   ],
   "source": [
    "date_before = datetime.now()\n",
    "\n",
    "cursorIRIS.executemany(\"INSERT INTO Test.PurchaseOrderRow (Reference, Customer, PaymentDate, Vat, Amount, Status) VALUES (?, ?, ?, ?, ?, ?)\", parameters)\n",
    "connectionIRIS.commit()\n",
    "difference = datetime.now() - date_before\n",
    "print(difference.total_seconds())\n",
    "resultsIRISRow.append(difference.total_seconds())"
   ]
  },
  {
   "cell_type": "code",
   "execution_count": 6,
   "id": "ab66dc80-0d6b-4ba2-b3b8-c81551d0be83",
   "metadata": {},
   "outputs": [
    {
     "name": "stdout",
     "output_type": "stream",
     "text": [
      "Parameters built\n"
     ]
    }
   ],
   "source": [
    "for x in range(4000):\n",
    "    parameter = []\n",
    "    amount = random.uniform(1.0, 10000.0)\n",
    "    parameter.append(reference)\n",
    "    parameter.append(names.get_first_name()+' '+names.get_last_name())\n",
    "    parameter.append((start_date + (end_date - start_date) * random.random()).strftime('%Y-%m-%d %H:%M:%S'))\n",
    "    parameter.append(amount)\n",
    "    parameter.append(amount * 0.18)\n",
    "    parameter.append(random.choice(['EMITED','PAYED','SENT','RECEIVED']))\n",
    "    parameters.append(parameter)\n",
    "    reference += 1\n",
    "    \n",
    "print(\"Parameters built\")"
   ]
  },
  {
   "cell_type": "code",
   "execution_count": 7,
   "id": "2fc4b89f-e980-4cd6-9e51-7894b205380a",
   "metadata": {},
   "outputs": [
    {
     "name": "stdout",
     "output_type": "stream",
     "text": [
      "0.175289\n"
     ]
    }
   ],
   "source": [
    "date_before = datetime.now()\n",
    "\n",
    "cursorIRIS.executemany(\"INSERT INTO Test.PurchaseOrderColumnar (Reference, Customer, PaymentDate, Vat, Amount, Status) VALUES (?, ?, ?, ?, ?, ?)\", parameters)\n",
    "connectionIRIS.commit()\n",
    "difference = datetime.now() - date_before\n",
    "print(difference.total_seconds())\n",
    "resultsIRISColumnar.append(difference.total_seconds())"
   ]
  },
  {
   "cell_type": "code",
   "execution_count": 8,
   "id": "ec944d4c",
   "metadata": {},
   "outputs": [
    {
     "name": "stdout",
     "output_type": "stream",
     "text": [
      "0.150292\n"
     ]
    }
   ],
   "source": [
    "date_before = datetime.now()\n",
    "\n",
    "cursorIRIS.executemany(\"INSERT INTO Test.PurchaseOrderRow (Reference, Customer, PaymentDate, Vat, Amount, Status) VALUES (?, ?, ?, ?, ?, ?)\", parameters)\n",
    "connectionIRIS.commit()\n",
    "difference = datetime.now() - date_before\n",
    "print(difference.total_seconds())\n",
    "resultsIRISRow.append(difference.total_seconds())"
   ]
  },
  {
   "cell_type": "code",
   "execution_count": 9,
   "id": "3781c085-8525-482f-a2f9-e968fbb80081",
   "metadata": {},
   "outputs": [
    {
     "name": "stdout",
     "output_type": "stream",
     "text": [
      "0.00121\n"
     ]
    }
   ],
   "source": [
    "date_before = datetime.now()\n",
    "\n",
    "cursorIRIS.execute(\"SELECT AVG(Amount) FROM Test.PurchaseOrderColumnar WHERE Status = 'SENT'\")\n",
    "purchaseOrders = cursorIRIS.fetchall()\n",
    "difference = datetime.now() - date_before\n",
    "selectIRISColumnar.append(difference.total_seconds())\n",
    "print(difference.total_seconds())"
   ]
  },
  {
   "cell_type": "code",
   "execution_count": 10,
   "id": "384db8f7-aa05-451d-8f21-c43362b3584b",
   "metadata": {},
   "outputs": [
    {
     "name": "stdout",
     "output_type": "stream",
     "text": [
      "0.003021\n"
     ]
    }
   ],
   "source": [
    "date_before = datetime.now()\n",
    "\n",
    "cursorIRIS.execute(\"SELECT AVG(Amount) FROM Test.PurchaseOrderRow WHERE Status = 'SENT'\")\n",
    "purchaseOrders = cursorIRIS.fetchall()\n",
    "difference = datetime.now() - date_before\n",
    "selectIRISRow.append(difference.total_seconds())\n",
    "print(difference.total_seconds())"
   ]
  },
  {
   "cell_type": "code",
   "execution_count": 11,
   "id": "1ad9caff-3c99-45f7-aeea-dfabed35e912",
   "metadata": {},
   "outputs": [
    {
     "name": "stdout",
     "output_type": "stream",
     "text": [
      "Parameters built\n"
     ]
    }
   ],
   "source": [
    "for x in range(15000):\n",
    "    parameter = []\n",
    "    amount = random.uniform(1.0, 10000.0)\n",
    "    parameter.append(reference)\n",
    "    parameter.append(names.get_first_name()+' '+names.get_last_name())\n",
    "    parameter.append((start_date + (end_date - start_date) * random.random()).strftime('%Y-%m-%d %H:%M:%S'))\n",
    "    parameter.append(amount)\n",
    "    parameter.append(amount * 0.18)\n",
    "    parameter.append(random.choice(['EMITED','PAYED','SENT','RECEIVED']))\n",
    "    parameters.append(parameter)\n",
    "    reference += 1\n",
    "\n",
    "print(\"Parameters built\")"
   ]
  },
  {
   "cell_type": "code",
   "execution_count": 12,
   "id": "a5b83d52-879d-4e60-9ce2-b32df9f1b30f",
   "metadata": {},
   "outputs": [
    {
     "name": "stdout",
     "output_type": "stream",
     "text": [
      "0.657046\n"
     ]
    }
   ],
   "source": [
    "date_before = datetime.now()\n",
    "\n",
    "cursorIRIS.executemany(\"INSERT INTO Test.PurchaseOrderColumnar (Reference, Customer, PaymentDate, Vat, Amount, Status) VALUES (?, ?, ?, ?, ?, ?)\", parameters)\n",
    "connectionIRIS.commit()\n",
    "difference = datetime.now() - date_before\n",
    "print(difference.total_seconds())\n",
    "resultsIRISColumnar.append(difference.total_seconds())"
   ]
  },
  {
   "cell_type": "code",
   "execution_count": 13,
   "id": "017a7cee",
   "metadata": {},
   "outputs": [
    {
     "name": "stdout",
     "output_type": "stream",
     "text": [
      "0.565755\n"
     ]
    }
   ],
   "source": [
    "date_before = datetime.now()\n",
    "\n",
    "cursorIRIS.executemany(\"INSERT INTO Test.PurchaseOrderRow (Reference, Customer, PaymentDate, Vat, Amount, Status) VALUES (?, ?, ?, ?, ?, ?)\", parameters)\n",
    "connectionIRIS.commit()\n",
    "difference = datetime.now() - date_before\n",
    "print(difference.total_seconds())\n",
    "resultsIRISRow.append(difference.total_seconds())"
   ]
  },
  {
   "cell_type": "code",
   "execution_count": 14,
   "id": "1b936fb6-a9c1-4ba8-a6db-dbdf6053fb85",
   "metadata": {},
   "outputs": [
    {
     "name": "stdout",
     "output_type": "stream",
     "text": [
      "0.00094\n"
     ]
    }
   ],
   "source": [
    "date_before = datetime.now()\n",
    "\n",
    "cursorIRIS.execute(\"SELECT AVG(Amount) FROM Test.PurchaseOrderColumnar WHERE Status = 'SENT'\")\n",
    "purchaseOrders = cursorIRIS.fetchall()\n",
    "difference = datetime.now() - date_before\n",
    "selectIRISColumnar.append(difference.total_seconds())\n",
    "print(difference.total_seconds())"
   ]
  },
  {
   "cell_type": "code",
   "execution_count": 15,
   "id": "1e8426ff-4ab6-4a14-b068-cdc381c5fc0c",
   "metadata": {},
   "outputs": [
    {
     "name": "stdout",
     "output_type": "stream",
     "text": [
      "0.005555\n"
     ]
    }
   ],
   "source": [
    "date_before = datetime.now()\n",
    "\n",
    "cursorIRIS.execute(\"SELECT AVG(Amount) FROM Test.PurchaseOrderRow WHERE Status = 'SENT'\")\n",
    "purchaseOrders = cursorIRIS.fetchall()\n",
    "difference = datetime.now() - date_before\n",
    "selectIRISRow.append(difference.total_seconds())\n",
    "print(difference.total_seconds())"
   ]
  },
  {
   "cell_type": "code",
   "execution_count": 16,
   "id": "f789b8b0-aa27-4143-9087-9528b744da1f",
   "metadata": {},
   "outputs": [
    {
     "name": "stdout",
     "output_type": "stream",
     "text": [
      "Parameters built\n"
     ]
    }
   ],
   "source": [
    "for x in range(30000):\n",
    "    parameter = []\n",
    "    amount = random.uniform(1.0, 10000.0)\n",
    "    parameter.append(reference)\n",
    "    parameter.append(names.get_first_name()+' '+names.get_last_name())\n",
    "    parameter.append((start_date + (end_date - start_date) * random.random()).strftime('%Y-%m-%d %H:%M:%S'))\n",
    "    parameter.append(amount)\n",
    "    parameter.append(amount * 0.18)\n",
    "    parameter.append(random.choice(['EMITED','PAYED','SENT','RECEIVED']))\n",
    "    parameters.append(parameter)\n",
    "    reference += 1\n",
    "\n",
    "print(\"Parameters built\")"
   ]
  },
  {
   "cell_type": "code",
   "execution_count": 17,
   "id": "ca015bbf-0625-4253-932b-2fc4826ba735",
   "metadata": {},
   "outputs": [
    {
     "name": "stdout",
     "output_type": "stream",
     "text": [
      "1.76876\n"
     ]
    }
   ],
   "source": [
    "date_before = datetime.now()\n",
    "\n",
    "cursorIRIS.executemany(\"INSERT INTO Test.PurchaseOrderColumnar (Reference, Customer, PaymentDate, Vat, Amount, Status) VALUES (?, ?, ?, ?, ?, ?)\", parameters)\n",
    "connectionIRIS.commit()\n",
    "difference = datetime.now() - date_before\n",
    "print(difference.total_seconds())\n",
    "resultsIRISColumnar.append(difference.total_seconds())"
   ]
  },
  {
   "cell_type": "code",
   "execution_count": 18,
   "id": "8825cc53-750c-4eea-84c1-830063c3522b",
   "metadata": {},
   "outputs": [
    {
     "name": "stdout",
     "output_type": "stream",
     "text": [
      "0.001129\n"
     ]
    }
   ],
   "source": [
    "date_before = datetime.now()\n",
    "\n",
    "cursorIRIS.execute(\"SELECT AVG(Amount) FROM Test.PurchaseOrderColumnar WHERE Status = 'SENT'\")\n",
    "purchaseOrders = cursorIRIS.fetchall()\n",
    "difference = datetime.now() - date_before\n",
    "selectIRISColumnar.append(difference.total_seconds())\n",
    "print(difference.total_seconds())"
   ]
  },
  {
   "cell_type": "code",
   "execution_count": 19,
   "id": "280d833f-2b23-4401-a101-55448d192903",
   "metadata": {},
   "outputs": [
    {
     "name": "stdout",
     "output_type": "stream",
     "text": [
      "0.005327\n"
     ]
    }
   ],
   "source": [
    "date_before = datetime.now()\n",
    "\n",
    "cursorIRIS.execute(\"SELECT AVG(Amount) FROM Test.PurchaseOrderRow WHERE Status = 'SENT'\")\n",
    "purchaseOrders = cursorIRIS.fetchall()\n",
    "difference = datetime.now() - date_before\n",
    "selectIRISRow.append(difference.total_seconds())\n",
    "print(difference.total_seconds())"
   ]
  },
  {
   "cell_type": "code",
   "execution_count": 20,
   "id": "b8bdeca0",
   "metadata": {},
   "outputs": [
    {
     "name": "stdout",
     "output_type": "stream",
     "text": [
      "1.473616\n"
     ]
    }
   ],
   "source": [
    "date_before = datetime.now()\n",
    "\n",
    "cursorIRIS.executemany(\"INSERT INTO Test.PurchaseOrderRow (Reference, Customer, PaymentDate, Vat, Amount, Status) VALUES (?, ?, ?, ?, ?, ?)\", parameters)\n",
    "connectionIRIS.commit()\n",
    "difference = datetime.now() - date_before\n",
    "print(difference.total_seconds())\n",
    "resultsIRISRow.append(difference.total_seconds())"
   ]
  },
  {
   "cell_type": "code",
   "execution_count": 21,
   "id": "34529066-02cf-47f8-8969-e8e5c933be9c",
   "metadata": {},
   "outputs": [
    {
     "name": "stdout",
     "output_type": "stream",
     "text": [
      "0.000912\n"
     ]
    }
   ],
   "source": [
    "date_before = datetime.now()\n",
    "\n",
    "cursorIRIS.execute(\"SELECT AVG(Amount) FROM Test.PurchaseOrderColumnar WHERE Status = 'SENT'\")\n",
    "purchaseOrders = cursorIRIS.fetchall()\n",
    "difference = datetime.now() - date_before\n",
    "selectIRISColumnar.append(difference.total_seconds())\n",
    "print(difference.total_seconds())"
   ]
  },
  {
   "cell_type": "code",
   "execution_count": 22,
   "id": "661fdd17",
   "metadata": {},
   "outputs": [
    {
     "name": "stdout",
     "output_type": "stream",
     "text": [
      "0.013937\n"
     ]
    }
   ],
   "source": [
    "date_before = datetime.now()\n",
    "\n",
    "cursorIRIS.execute(\"SELECT AVG(Amount) FROM Test.PurchaseOrderRow WHERE Status = 'SENT'\")\n",
    "purchaseOrders = cursorIRIS.fetchall()\n",
    "difference = datetime.now() - date_before\n",
    "selectIRISRow.append(difference.total_seconds())\n",
    "print(difference.total_seconds())"
   ]
  },
  {
   "cell_type": "code",
   "execution_count": 23,
   "id": "2ae0e104-40cb-4adb-874c-17c2ca06f1a2",
   "metadata": {},
   "outputs": [],
   "source": [
    "parameters = parameters + parameters"
   ]
  },
  {
   "cell_type": "code",
   "execution_count": 24,
   "id": "0afe0fb5-7fb8-4e5e-ae57-f26e65c8e1ef",
   "metadata": {},
   "outputs": [
    {
     "name": "stdout",
     "output_type": "stream",
     "text": [
      "3.189093\n"
     ]
    }
   ],
   "source": [
    "date_before = datetime.now()\n",
    "\n",
    "cursorIRIS.executemany(\"INSERT INTO Test.PurchaseOrderColumnar (Reference, Customer, PaymentDate, Vat, Amount, Status) VALUES (?, ?, ?, ?, ?, ?)\", parameters)\n",
    "connectionIRIS.commit()\n",
    "difference = datetime.now() - date_before\n",
    "print(difference.total_seconds())\n",
    "resultsIRISColumnar.append(difference.total_seconds())"
   ]
  },
  {
   "cell_type": "code",
   "execution_count": 25,
   "id": "354dfd92-af74-4616-ba8c-094c753e0438",
   "metadata": {},
   "outputs": [
    {
     "name": "stdout",
     "output_type": "stream",
     "text": [
      "2.948598\n"
     ]
    }
   ],
   "source": [
    "date_before = datetime.now()\n",
    "\n",
    "cursorIRIS.executemany(\"INSERT INTO Test.PurchaseOrderRow (Reference, Customer, PaymentDate, Vat, Amount, Status) VALUES (?, ?, ?, ?, ?, ?)\", parameters)\n",
    "connectionIRIS.commit()\n",
    "difference = datetime.now() - date_before\n",
    "print(difference.total_seconds())\n",
    "resultsIRISRow.append(difference.total_seconds())"
   ]
  },
  {
   "cell_type": "code",
   "execution_count": 26,
   "id": "f3e53383-b8ad-457d-855d-80cda1544938",
   "metadata": {},
   "outputs": [
    {
     "name": "stdout",
     "output_type": "stream",
     "text": [
      "0.001744\n"
     ]
    }
   ],
   "source": [
    "date_before = datetime.now()\n",
    "\n",
    "cursorIRIS.execute(\"SELECT AVG(Amount) FROM Test.PurchaseOrderColumnar WHERE Status = 'SENT'\")\n",
    "purchaseOrders = cursorIRIS.fetchall()\n",
    "difference = datetime.now() - date_before\n",
    "selectIRISColumnar.append(difference.total_seconds())\n",
    "print(difference.total_seconds())"
   ]
  },
  {
   "cell_type": "code",
   "execution_count": 27,
   "id": "e0919264-04a7-4252-ac07-8df50d9f365a",
   "metadata": {},
   "outputs": [
    {
     "name": "stdout",
     "output_type": "stream",
     "text": [
      "0.032816\n"
     ]
    }
   ],
   "source": [
    "date_before = datetime.now()\n",
    "\n",
    "cursorIRIS.execute(\"SELECT AVG(Amount) FROM Test.PurchaseOrderRow WHERE Status = 'SENT'\")\n",
    "purchaseOrders = cursorIRIS.fetchall()\n",
    "difference = datetime.now() - date_before\n",
    "selectIRISRow.append(difference.total_seconds())\n",
    "print(difference.total_seconds())"
   ]
  },
  {
   "cell_type": "code",
   "execution_count": 28,
   "id": "cee299db-3790-455c-8347-40a5ac2e6ba9",
   "metadata": {},
   "outputs": [],
   "source": [
    "parameters = parameters + parameters"
   ]
  },
  {
   "cell_type": "code",
   "execution_count": 29,
   "id": "34fdc38c-02df-4df3-8ae5-6d464855a9a3",
   "metadata": {},
   "outputs": [
    {
     "name": "stdout",
     "output_type": "stream",
     "text": [
      "6.661624\n"
     ]
    }
   ],
   "source": [
    "date_before = datetime.now()\n",
    "\n",
    "cursorIRIS.executemany(\"INSERT INTO Test.PurchaseOrderColumnar (Reference, Customer, PaymentDate, Vat, Amount, Status) VALUES (?, ?, ?, ?, ?, ?)\", parameters)\n",
    "connectionIRIS.commit()\n",
    "difference = datetime.now() - date_before\n",
    "print(difference.total_seconds())\n",
    "resultsIRISColumnar.append(difference.total_seconds())"
   ]
  },
  {
   "cell_type": "code",
   "execution_count": 30,
   "id": "eb61260a-ba53-4d95-a441-e0a3ed2429ce",
   "metadata": {},
   "outputs": [
    {
     "name": "stdout",
     "output_type": "stream",
     "text": [
      "5.783215\n"
     ]
    }
   ],
   "source": [
    "date_before = datetime.now()\n",
    "\n",
    "cursorIRIS.executemany(\"INSERT INTO Test.PurchaseOrderRow (Reference, Customer, PaymentDate, Vat, Amount, Status) VALUES (?, ?, ?, ?, ?, ?)\", parameters)\n",
    "connectionIRIS.commit()\n",
    "difference = datetime.now() - date_before\n",
    "print(difference.total_seconds())\n",
    "resultsIRISRow.append(difference.total_seconds())"
   ]
  },
  {
   "cell_type": "code",
   "execution_count": 31,
   "id": "9bc703b2-55c2-4a3f-9b6f-46ed82f47e28",
   "metadata": {},
   "outputs": [
    {
     "name": "stdout",
     "output_type": "stream",
     "text": [
      "0.002919\n"
     ]
    }
   ],
   "source": [
    "date_before = datetime.now()\n",
    "\n",
    "cursorIRIS.execute(\"SELECT AVG(Amount) FROM Test.PurchaseOrderColumnar WHERE Status = 'SENT'\")\n",
    "purchaseOrders = cursorIRIS.fetchall()\n",
    "difference = datetime.now() - date_before\n",
    "selectIRISColumnar.append(difference.total_seconds())\n",
    "print(difference.total_seconds())"
   ]
  },
  {
   "cell_type": "code",
   "execution_count": 32,
   "id": "b52cee1e-9c33-4566-bd62-1697168cba73",
   "metadata": {},
   "outputs": [
    {
     "name": "stdout",
     "output_type": "stream",
     "text": [
      "0.079984\n"
     ]
    }
   ],
   "source": [
    "date_before = datetime.now()\n",
    "\n",
    "cursorIRIS.execute(\"SELECT AVG(Amount) FROM Test.PurchaseOrderRow WHERE Status = 'SENT'\")\n",
    "purchaseOrders = cursorIRIS.fetchall()\n",
    "difference = datetime.now() - date_before\n",
    "selectIRISRow.append(difference.total_seconds())\n",
    "print(difference.total_seconds())"
   ]
  },
  {
   "cell_type": "code",
   "execution_count": 33,
   "id": "dae9ebab-79d7-41f4-af08-090f0ac22d61",
   "metadata": {},
   "outputs": [],
   "source": [
    "connectionIRIS.close()\n"
   ]
  },
  {
   "cell_type": "code",
   "execution_count": 34,
   "id": "6dfee5c2-d7ed-4375-919b-0c9da739b12c",
   "metadata": {},
   "outputs": [
    {
     "data": {
      "image/png": "[encoded data removed]",
      "text/plain": [
       "<Figure size 640x480 with 1 Axes>"
      ]
     },
     "metadata": {},
     "output_type": "display_data"
    }
   ],
   "source": [
    "x = [0, 1000,5000,20000,50000,100000,200000]\n",
    "plt.plot(x, resultsIRISColumnar, label = \"Columnar\")\n",
    "plt.plot(x, resultsIRISRow, label = \"Row\")\n",
    "plt.legend() \n",
    "plt.show()"
   ]
  },
  {
   "cell_type": "code",
   "execution_count": 35,
   "id": "b09c775d-6efb-4087-961f-0a38472b54d6",
   "metadata": {},
   "outputs": [
    {
     "data": {
      "image/png": "[encoded data removed]",
      "text/plain": [
       "<Figure size 640x480 with 1 Axes>"
      ]
     },
     "metadata": {},
     "output_type": "display_data"
    }
   ],
   "source": [
    "x = [0, 1000,5000,20000,50000,100000,200000]\n",
    "plt.plot(x, selectIRISColumnar, label = \"Columnar\")\n",
    "plt.plot(x, selectIRISRow, label = \"Row\")\n",
    "plt.legend() \n",
    "plt.show()"
   ]
  }
 ],
 "metadata": {
  "kernelspec": {
   "display_name": "Python 3 (ipykernel)",
   "language": "python",
   "name": "python3"
  },
  "language_info": {
   "codemirror_mode": {
    "name": "ipython",
    "version": 3
   },
   "file_extension": ".py",
   "mimetype": "text/x-python",
   "name": "python",
   "nbconvert_exporter": "python",
   "pygments_lexer": "ipython3",
   "version": "3.11.6"
  }
 },
 "nbformat": 4,
 "nbformat_minor": 5
}
